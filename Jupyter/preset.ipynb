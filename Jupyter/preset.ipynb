{
 "cells": [
  {
   "cell_type": "code",
   "execution_count": 10,
   "metadata": {},
   "outputs": [],
   "source": [
    "# -*- coding: utf-8 -*-\n",
    "\n",
    "\n",
    "import numpy as np\n",
    "import matplotlib as mat\n",
    "from matplotlib import font_manager, rc\n",
    "\n",
    "font_name = font_manager.FontProperties(fname=\"/Library/Fonts/Arial Unicode.ttf\").get_name()\n",
    "# font_name = font_manager.FontProperties(fname=\"c:/Windows/Fonts/NANUMBARUNPENR.TTF\").get_name()\n",
    "\n",
    "def setPlotStyle():    \n",
    "    # plt.figure(dpi=300)  \n",
    "    mat.rcParams['font.family'] = font_name\n",
    "    mat.rcParams['font.size'] = 15\n",
    "    mat.rcParams['legend.fontsize'] = 15\n",
    "    mat.rcParams['lines.linewidth'] = 2\n",
    "    mat.rcParams['lines.color'] = 'r'\n",
    "    mat.rcParams['axes.grid'] = 1     \n",
    "    mat.rcParams['axes.xmargin'] = 0.1     \n",
    "    mat.rcParams['axes.ymargin'] = 0.1     \n",
    "    mat.rcParams[\"mathtext.fontset\"] = \"dejavuserif\" #\"cm\", \"stix\", etc.\n",
    "    mat.rcParams['figure.dpi'] = 100\n",
    "    mat.rcParams['savefig.dpi'] = 100"
   ]
  }
 ],
 "metadata": {
  "kernelspec": {
   "display_name": "Python 3",
   "language": "python",
   "name": "python3"
  },
  "language_info": {
   "codemirror_mode": {
    "name": "ipython",
    "version": 3
   },
   "file_extension": ".py",
   "mimetype": "text/x-python",
   "name": "python",
   "nbconvert_exporter": "python",
   "pygments_lexer": "ipython3",
   "version": "3.11.2"
  },
  "orig_nbformat": 4
 },
 "nbformat": 4,
 "nbformat_minor": 2
}
